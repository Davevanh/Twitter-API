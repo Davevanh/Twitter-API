{
 "cells": [
  {
   "cell_type": "code",
   "execution_count": 10,
   "metadata": {
    "scrolled": true
   },
   "outputs": [],
   "source": [
    "import tweepy\n",
    "import pandas as pd\n",
    "import re\n",
    "from sqlalchemy import create_engine"
   ]
  },
  {
   "cell_type": "code",
   "execution_count": 4,
   "metadata": {
    "scrolled": true
   },
   "outputs": [],
   "source": [
    "auth = tweepy.OAuthHandler('' , '' )\n",
    "auth.set_access_token('-', '')\n",
    "api = tweepy.API(auth)"
   ]
  },
  {
   "cell_type": "code",
   "execution_count": 7,
   "metadata": {
    "scrolled": true
   },
   "outputs": [
    {
     "name": "stdout",
     "output_type": "stream",
     "text": [
      "Number of tweets extracted: 3215.\n",
      "\n"
     ]
    }
   ],
   "source": [
    "#return the maximum number of tweets from the timeline \n",
    "\n",
    "def data_set(api_call):\n",
    "    tweet_data = []\n",
    "    for page in api_call: \n",
    "        for tweet in page:\n",
    "            tweet_data.append(tweet)\n",
    "    return tweet_data\n",
    "\n",
    "all_Naval_tweets = data_set(tweepy.Cursor(api.user_timeline, screen_name='Naval', count=200, \n",
    "                                          tweet_mode='extended', include_entities=True, include_rts = True).pages())\n",
    "print(\"Number of tweets extracted: {}.\\n\".format(len(all_Naval_tweets)))"
   ]
  },
  {
   "cell_type": "code",
   "execution_count": 8,
   "metadata": {
    "scrolled": true
   },
   "outputs": [],
   "source": [
    "#one tweet can have multiple hashtags. Postgres can unnest arrays, so hashtags need list as their data type \n",
    "\n",
    "hashtag_list = []\n",
    "for tweet in all_Naval_tweets:\n",
    "#if no hashtag, return an empty list (list is default data type for empty Tweet entities in Tweepy api)    \n",
    "    if len(tweet.entities['hashtags']) == 0:\n",
    "        hashtag_list.append(tweet.entities['hashtags'])\n",
    "#if one hashtag in the tweet, take text of this single hashtag\n",
    "    elif len(tweet.entities['hashtags']) == 1:\n",
    "        hashtag_string = tweet.entities['hashtags'][0]['text']\n",
    "#before appendding to the list, convert the string to a list        \n",
    "        hashtag_list_function = hashtag_string.split(\",\")\n",
    "        hashtag_list.append(hashtag_list_function)   \n",
    "#if a tweet contains more than 1 tweet, append all text elements to a list and then append this list to the main list          \n",
    "    elif len(tweet.entities['hashtags']) > 1:\n",
    "        empty_hashtag_list = []\n",
    "        for hashtag in tweet.entities['hashtags']:\n",
    "            empty_hashtag_list.append(hashtag['text'])\n",
    "        hashtag_list.append(empty_hashtag_list)"
   ]
  },
  {
   "cell_type": "code",
   "execution_count": 11,
   "metadata": {
    "scrolled": true
   },
   "outputs": [],
   "source": [
    "#a tweet can contain user mentions and urls. Remove both from the tweet text.  \n",
    "#also remove extra whitespaces and linebreaks to keep a clear text field \n",
    "\n",
    "tweet_text_list = []\n",
    "for tweet in all_Naval_tweets:\n",
    "    remove_user_mentions = re.sub(r\"@\\S+\", '', tweet.full_text)\n",
    "    remove_urls = re.sub(r'http\\S+', '', remove_user_mentions)\n",
    "    remove_RT = remove_urls.replace('RT', '') \n",
    "    remove_intra_whitespace = re.sub(' +', ' ', remove_RT)\n",
    "    remove_trailing_whistespace = remove_intra_whitespace.lstrip()\n",
    "    remove_line_breaks = remove_trailing_whistespace.replace('\\n','')\n",
    "    tweet_text_list.append(remove_line_breaks)"
   ]
  },
  {
   "cell_type": "code",
   "execution_count": 12,
   "metadata": {
    "scrolled": true
   },
   "outputs": [],
   "source": [
    "#some tweets contain retweets. For every tweet, append either the retweeted user data, or append 'None'\n",
    "#whether a tweet is a retweet is determined by whether a tweet starts with 'RT'\n",
    "\n",
    "retweet_user_id_list = []\n",
    "retweet_user_name_list = []\n",
    "retweet_user_screen_name_list = []\n",
    "retweet_user_location_list = []\n",
    "retweet_user_description_list = []\n",
    "retweet_user_created_timestamp = []\n",
    "retweet_user_followers_count = []\n",
    "\n",
    "for tweet in all_Naval_tweets:\n",
    "    if tweet.full_text.startswith(\"RT @\"): \n",
    "        retweet_user_id_list.append(tweet.retweeted_status.user.id)\n",
    "        retweet_user_name_list.append(tweet.retweeted_status.user.name)\n",
    "        retweet_user_screen_name_list.append(tweet.retweeted_status.user.screen_name)\n",
    "        retweet_user_location_list.append(tweet.retweeted_status.user.location)\n",
    "        retweet_user_description_list.append(tweet.retweeted_status.user.description)\n",
    "        retweet_user_created_timestamp.append(tweet.retweeted_status.user.created_at)\n",
    "        retweet_user_followers_count.append(tweet.retweeted_status.user.followers_count)\n",
    "    else:\n",
    "        retweet_user_id_list.append(None)\n",
    "        retweet_user_name_list.append(None)\n",
    "        retweet_user_screen_name_list.append(None)\n",
    "        retweet_user_location_list.append(None)\n",
    "        retweet_user_description_list.append(None)\n",
    "        retweet_user_created_timestamp.append(None)\n",
    "        retweet_user_followers_count.append(None)"
   ]
  },
  {
   "cell_type": "code",
   "execution_count": 13,
   "metadata": {
    "scrolled": true
   },
   "outputs": [],
   "source": [
    "#create a boolean value to determine whether a tweet is a retweet\n",
    "\n",
    "is_retweeted_list = []\n",
    "for tweet in all_Naval_tweets:\n",
    "    if tweet.full_text.startswith(\"RT @\"): \n",
    "        is_retweeted_list.append(1)\n",
    "    else:\n",
    "        is_retweeted_list.append(0)"
   ]
  },
  {
   "cell_type": "code",
   "execution_count": 14,
   "metadata": {
    "scrolled": true
   },
   "outputs": [],
   "source": [
    "#create a boolean value to determine whether a tweet has at least one hashtag\n",
    "\n",
    "has_hashtag_list = []\n",
    "for tweet in all_Naval_tweets:\n",
    "    if len(tweet.entities['hashtags']) > 0:\n",
    "        has_hashtag_list.append(1) \n",
    "    else:\n",
    "        has_hashtag_list.append(0)     "
   ]
  },
  {
   "cell_type": "code",
   "execution_count": 15,
   "metadata": {
    "scrolled": false
   },
   "outputs": [],
   "source": [
    "#create a dataframe and insert columns with tweet related data\n",
    "\n",
    "df_tweets = pd.DataFrame()\n",
    "\n",
    "df_tweets['tweet_id'] = [tweet.id for tweet in all_Naval_tweets]\n",
    "df_tweets['created_timestamp'] = [tweet.created_at for tweet in all_Naval_tweets]\n",
    "df_tweets['tweet_text'] = tweet_text_list\n",
    "df_tweets['hashtags'] = hashtag_list\n",
    "df_tweets['retweet_count'] = [tweet.retweet_count for tweet in all_Naval_tweets]\n",
    "df_tweets['favorite_count'] = [tweet.favorite_count for tweet in all_Naval_tweets]\n",
    "df_tweets['is_retweeted'] = is_retweeted_list\n",
    "df_tweets['has_hashtags'] = has_hashtag_list\n",
    "df_tweets['tweet_user_id'] = [tweet.user.id for tweet in all_Naval_tweets]\n",
    "df_tweets['retweet_user_id'] = retweet_user_id_list"
   ]
  },
  {
   "cell_type": "code",
   "execution_count": 16,
   "metadata": {
    "scrolled": false
   },
   "outputs": [],
   "source": [
    "#create a dataframe and insert columns with user related data\n",
    "\n",
    "df_tweet_users = pd.DataFrame()\n",
    "\n",
    "df_tweet_users['user_id'] = [tweet.user.id for tweet in all_Naval_tweets]\n",
    "df_tweet_users['user_name'] = [tweet.user.name for tweet in all_Naval_tweets]\n",
    "df_tweet_users['screen_name'] = [tweet.user.screen_name for tweet in all_Naval_tweets]\n",
    "df_tweet_users['user_location'] = [tweet.user.location for tweet in all_Naval_tweets]\n",
    "df_tweet_users['description'] = [tweet.user.description for tweet in all_Naval_tweets]\n",
    "df_tweet_users['created_timestamp'] = [tweet.user.created_at for tweet in all_Naval_tweets]\n",
    "df_tweet_users['followers_count'] = [tweet.user.followers_count for tweet in all_Naval_tweets]\n",
    "\n",
    "df_retweet_users = pd.DataFrame()\n",
    "\n",
    "df_retweet_users['user_id'] = retweet_user_id_list\n",
    "df_retweet_users['user_name'] = retweet_user_name_list\n",
    "df_retweet_users['screen_name'] = retweet_user_screen_name_list\n",
    "df_retweet_users['user_location'] = retweet_user_location_list\n",
    "df_retweet_users['description'] = retweet_user_description_list\n",
    "df_retweet_users['created_timestamp'] = retweet_user_created_timestamp\n",
    "df_retweet_users['followers_count'] = retweet_user_followers_count\n",
    "\n",
    "#user data is a combination of both users who have been retweeted and the tweeting user \n",
    "df_users_by_tweet = pd.concat([df_tweet_users, df_retweet_users])\n",
    "#remove duplicate users in the dataframe \n",
    "df_users_1 = df_users_by_tweet.drop_duplicates(subset=['user_id'])\n",
    "df_users = df_users_1.dropna(subset=['user_id']) "
   ]
  },
  {
   "cell_type": "code",
   "execution_count": 17,
   "metadata": {
    "scrolled": false
   },
   "outputs": [
    {
     "name": "stderr",
     "output_type": "stream",
     "text": [
      "/anaconda3/lib/python3.7/site-packages/psycopg2/__init__.py:144: UserWarning: The psycopg2 wheel package will be renamed from release 2.8; in order to keep installing from binary please use \"pip install psycopg2-binary\" instead. For details see: <http://initd.org/psycopg/docs/install.html#binary-install-from-pypi>.\n",
      "  \"\"\")\n"
     ]
    },
    {
     "data": {
      "text/plain": [
       "<sqlalchemy.engine.base.Connection at 0x1170abd68>"
      ]
     },
     "execution_count": 17,
     "metadata": {},
     "output_type": "execute_result"
    }
   ],
   "source": [
    "#set up the connection to the Postgres database \n",
    "\n",
    "dbschema='raw' \n",
    "engine = create_engine(\n",
    "    'postgresql://postgres:@localhost:5432/postgres',\n",
    "    connect_args={'options': '-csearch_path={}'.format(dbschema)})\n",
    "engine.connect()"
   ]
  },
  {
   "cell_type": "code",
   "execution_count": 18,
   "metadata": {
    "scrolled": true
   },
   "outputs": [],
   "source": [
    "#truncate existing tables to avoid any duplicates and to start with a clean dataset\n",
    "\n",
    "with engine.begin() as conn:\n",
    "    conn.execute('''TRUNCATE TABLE users CASCADE''')\n",
    "    conn.execute('''TRUNCATE TABLE tweets CASCADE''')"
   ]
  },
  {
   "cell_type": "code",
   "execution_count": 19,
   "metadata": {
    "scrolled": true
   },
   "outputs": [],
   "source": [
    "#insert the dataframes to the tables created in Postgres\n",
    "\n",
    "df_users.to_sql('users', engine,if_exists='append', index=False)\n",
    "df_tweets.to_sql('tweets', engine, if_exists='append', index=False)"
   ]
  }
 ],
 "metadata": {
  "kernelspec": {
   "display_name": "Python 3",
   "language": "python",
   "name": "python3"
  },
  "language_info": {
   "codemirror_mode": {
    "name": "ipython",
    "version": 3
   },
   "file_extension": ".py",
   "mimetype": "text/x-python",
   "name": "python",
   "nbconvert_exporter": "python",
   "pygments_lexer": "ipython3",
   "version": "3.7.3"
  }
 },
 "nbformat": 4,
 "nbformat_minor": 2
}
